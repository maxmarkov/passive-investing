{
 "cells": [
  {
   "attachments": {},
   "cell_type": "markdown",
   "id": "7ce7208a",
   "metadata": {},
   "source": [
    "# Total return distributions\n",
    "\n",
    "We examine the distribution of stock index returns using historical stock price data from 2006 to 2021 and quantify the difference between average returns and typical returns (approximated by a mode or median) for major stock indexes. We show that the log-normal distribution provides a reasonable fit for the total returns for most world stock indexes and highlight the limitations of this model.\n",
    "\n",
    "Import libraries and load data:"
   ]
  },
  {
   "cell_type": "code",
   "execution_count": null,
   "id": "0256ceac",
   "metadata": {},
   "outputs": [],
   "source": [
    "import os\n",
    "import pickle\n",
    "import scipy\n",
    "\n",
    "import pandas as pd\n",
    "import numpy as np\n",
    "\n",
    "import matplotlib.pyplot as plt\n",
    "%matplotlib inline\n",
    "\n",
    "from src.analyzer import StockIndexAnalyzer\n",
    "from src.tables import prepare_table\n",
    "\n",
    "# PATH TO DATA\n",
    "FILEPATH = \"data/all_indexes_2006-01-01_2021-12-31.pickle\"\n",
    "\n",
    "with open(FILEPATH, \"rb\") as f:\n",
    "    data = pickle.load(f)\n",
    "\n",
    "START_YEAR = 2006\n",
    "END_YEAR = 2021\n",
    "\n",
    "mcmc = False # do we want to use MCMC or not"
   ]
  },
  {
   "attachments": {},
   "cell_type": "markdown",
   "id": "4faeb8fe",
   "metadata": {},
   "source": [
    "Define groups of indexes:"
   ]
  },
  {
   "cell_type": "code",
   "execution_count": null,
   "id": "51f8c75f",
   "metadata": {},
   "outputs": [],
   "source": [
    "# Unites States indexes\n",
    "indexes_usa = ['SPX','CCMP','RIY','RTY','RAY','RLV','RLG','NBI']\n",
    "\n",
    "# S&P500 sectors\n",
    "indexes_sp500 = ['S5COND','S5CONS','S5ENRS','S5FINL','S5HLTH','S5INFT','S5MATR','S5TELS','S5UTIL','S5INDU']\n",
    "\n",
    "# European indexes\n",
    "indexes_eu = ['DAX','CAC','UKX','BEL20','IBEX','KFX','OMX','SMI']\n",
    "\n",
    "# Asia Pacific indexes\n",
    "indexes_apac = ['AS51'] \n",
    "\n",
    "# Japan indexes\n",
    "indexes_jp = ['NKY','TPX']\n",
    "\n",
    "# BRIC indexes\n",
    "indexes_bric = ['IBOV','NIFTY','MXIN','SHCOMP','SHSZ300'] \n",
    "\n",
    "# All indexes: merge all lists\n",
    "indexes_all = indexes_usa + indexes_sp500 + indexes_eu + indexes_apac + indexes_jp + indexes_bric"
   ]
  },
  {
   "attachments": {},
   "cell_type": "markdown",
   "id": "7c620f91",
   "metadata": {},
   "source": [
    "Loop over all indexes to compute empirical statistics (mean, median and mode). The resuts are saved into dictionary.\n",
    "\n",
    "- Plot a histogram with left and right tails being grouped into cumulative bins.\n",
    "- Fit it with KDE\n",
    "- Find emprirical distribution parameters: mean, mode, etc\n",
    "- Find the best distribution fit\n",
    "- Plot QQ plots (empirical VS theoretical distribution). \n",
    "\n",
    "Optional:\n",
    "\n",
    "- Plot selected stock price evolution\n",
    "- Markov chain Monte-Carlo"
   ]
  },
  {
   "cell_type": "code",
   "execution_count": null,
   "id": "8ed096e8",
   "metadata": {},
   "outputs": [],
   "source": [
    "results_expt = {}   # histogram statistics \n",
    "results_mcmc = {}   # fit histogram with MCMC\n",
    "results_scipy = {}  # fit histogram with scipy\n",
    "\n",
    "# random seed parametbins = self.bins,er to insure reproducibily of qqplot with seaborn\n",
    "SEED = 99\n",
    "np.random.seed(SEED)\n",
    "\n",
    "for index_name in indexes_all:\n",
    "    \n",
    "    print(f\"Processing {index_name} index\")\n",
    "    \n",
    "    # class computes total returns and estimates empirical distribution parameters\n",
    "    stock_analyzer = StockIndexAnalyzer(prices = data[index_name],\n",
    "                                        stock_index = index_name,\n",
    "                                        start_year = START_YEAR,\n",
    "                                        end_year = END_YEAR)\n",
    "\n",
    "    # plot empirical histogram with two (left and right) cumulative bins\n",
    "    stock_analyzer._plot_histogram()\n",
    "\n",
    "    results_expt[index_name] = stock_analyzer._empirical_distribution_table()\n",
    "\n",
    "    #results_scipy[index_name] = stock_analyzer._scipy_fit()\n",
    "\n",
    "    summary = stock_analyzer._fitter_find_best_distribution()\n",
    "\n",
    "    ### Part 2: Markov Chain Monte Carlo to determine best fit parameters ###\n",
    "    if mcmc:\n",
    "        print(\"Starting MCMC ... \")\n",
    "        results_mcmc[index_name] = stock_analyzer._pymc3_fit(draws=10000, tune=5000)\n",
    "\n",
    "        # add results to dictionary\n",
    "        results_mcmc[index_name]['lognorm error'] = summary.loc['lognorm']['sumsquare_error']\n",
    "        results_mcmc[index_name]['best distr'] = summary.sort_values('sumsquare_error').iloc[0].name\n",
    "        results_mcmc[index_name]['best distr error'] = summary.sort_values('sumsquare_error').iloc[0]['sumsquare_error']\n",
    "\n",
    "    ### Part 3: estimate QQ plot: statsmodels or seaborn ###\n",
    "    stock_analyzer._generate_qq_plots(package='statsmodels')"
   ]
  },
  {
   "attachments": {},
   "cell_type": "markdown",
   "id": "319c8c13",
   "metadata": {},
   "source": [
    "Transform results dictionary into DataFrame, save it as latex file in tables folder."
   ]
  },
  {
   "cell_type": "code",
   "execution_count": null,
   "id": "4ee4f3b4",
   "metadata": {},
   "outputs": [],
   "source": [
    "# save results to csv\n",
    "DIR = 'tables'\n",
    "os.makedirs(DIR, exist_ok=True)\n",
    "\n",
    "df_expt = prepare_table(results = results_expt, mode = 'empirical', nyears=stock_analyzer.nyears)\n",
    "df_expt.to_latex(os.path.join(DIR,\"empirical.tex\"), index=False)\n",
    "\n",
    "df_scipy = prepare_table(results = results_scipy, mode = 'scipy', nyears=stock_analyzer.nyears)\n",
    "df_scipy.to_latex(os.path.join(DIR,\"scipy.tex\"), index=False)\n",
    "\n",
    "if mcmc:\n",
    "    df_mcmc = prepare_table(results = results_mcmc, mode = 'mcmc', nyears=stock_analyzer.nyears)                    \n",
    "    df_mcmc.to_latex(os.path.join(DIR,\"mcmc.tex\"), index=False)"
   ]
  }
 ],
 "metadata": {
  "kernelspec": {
   "display_name": "Python 3.9.13 ('fin-stock')",
   "language": "python",
   "name": "python3"
  },
  "language_info": {
   "codemirror_mode": {
    "name": "ipython",
    "version": 3
   },
   "file_extension": ".py",
   "mimetype": "text/x-python",
   "name": "python",
   "nbconvert_exporter": "python",
   "pygments_lexer": "ipython3",
   "version": "3.9.13"
  },
  "vscode": {
   "interpreter": {
    "hash": "96bf89713d8944abf8dbac25952e5d57c70041b1a74f98723cd0c89da88c5075"
   }
  }
 },
 "nbformat": 4,
 "nbformat_minor": 5
}
