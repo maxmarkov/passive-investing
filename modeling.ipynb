{
 "cells": [
  {
   "cell_type": "markdown",
   "id": "7ce7208a",
   "metadata": {},
   "source": [
    "# Stock index statistics\n",
    "\n",
    "This notebook shows how to compute stock index statistics."
   ]
  },
  {
   "cell_type": "code",
   "execution_count": null,
   "id": "51f8c75f",
   "metadata": {},
   "outputs": [],
   "source": [
    "import pandas as pd\n",
    "import os\n",
    "import pickle \n",
    "\n",
    "# load data\n",
    "FILEPATH = \"download_data_full/price_data/all_indexes_2006-01-01_2021-12-31.pickle\"\n",
    "with open(FILEPATH, \"rb\") as f:\n",
    "    data = pickle.load(f)\n",
    "    \n",
    "#index_list = list(data.keys())\n",
    "\n",
    "# define groups of indexes\n",
    "indexes_usa = ['SPX','CCMP','RIY','RTY','RAY','RLV','RLG','NBI']\n",
    "indexes_sp500 = ['S5COND','S5CONS','S5ENRS','S5FINL','S5HLTH','S5INFT',\n",
    "                 'S5MATR','S5RLST','S5TELS','S5UTIL','S5INDU']\n",
    "indexes_eu = ['DAX','CAC','UKX','BEL20','IBEX','KFX','OMX','SMI']\n",
    "indexes_apac = ['AS51','HSI','STI']\n",
    "indexes_jp = ['NKY','TPX']\n",
    "indexes_bric = ['IBOV','RTSI$','NIFTY','MXIN','SHCOMP','SHSZ300']\n",
    "\n",
    "# merge all groups into one\n",
    "indexes_all = indexes_usa + indexes_sp500 + indexes_eu + indexes_apac + indexes_jp + indexes_bric"
   ]
  },
  {
   "cell_type": "markdown",
   "id": "7c620f91",
   "metadata": {},
   "source": [
    "Loop over all indexes to compute empirical statistics (mean, median and mode). The resuts are saved into dictionary."
   ]
  },
  {
   "cell_type": "code",
   "execution_count": null,
   "id": "8ed096e8",
   "metadata": {},
   "outputs": [],
   "source": [
    "from src.analyzer import StockIndexAnalyzer\n",
    "\n",
    "start_date = \"2006-12-29\"\n",
    "end_date = \"2021-12-31\"\n",
    "\n",
    "results = {}\n",
    "\n",
    "for index_name in indexes_all:\n",
    "    \n",
    "    print(f\"Processing {index_name} index\")\n",
    "    \n",
    "    stock_analyzer = StockIndexAnalyzer(prices = data[index_name],\n",
    "                                        stock_index = index_name,\n",
    "                                        start_date = start_date,\n",
    "                                        end_date = end_date)\n",
    "    print (\"=== EXPERIMENTAL RESULTS ===\")\n",
    "    print (\"Experimental mean, median, mode, mean/median, mean/mode: %.2f, %.2f, %.2f, %.2f, %.2f\" %(stock_analyzer.mean_expt,\n",
    "                                                                                          stock_analyzer.median_expt,\n",
    "                                                                                          stock_analyzer.mode_expt,\n",
    "                                                                                          stock_analyzer.mean_expt/stock_analyzer.median_expt,\n",
    "                                                                                          stock_analyzer.mean_expt/stock_analyzer.mode_expt))\n",
    "    results[index_name] = {'category': stock_analyzer.category,\n",
    "                           'years': stock_analyzer.nyears,\n",
    "                           'n_stocks': len(stock_analyzer.tickers),\n",
    "                           'n_stocks_data': len(stock_analyzer.mu),\n",
    "                           'mean': stock_analyzer.mean_expt,\n",
    "                           'median': stock_analyzer.median_expt,\n",
    "                           'mode': stock_analyzer.mode_expt,\n",
    "                           'mean/median': stock_analyzer.mean_expt/stock_analyzer.median_expt,\n",
    "                           'mean/mode': stock_analyzer.mean_expt/stock_analyzer.mode_expt}\n",
    "    \n",
    "    #break"
   ]
  },
  {
   "cell_type": "markdown",
   "id": "319c8c13",
   "metadata": {},
   "source": [
    "Transform results dictionary into DataFrame. Transpose the table to have indexes as rows."
   ]
  },
  {
   "cell_type": "code",
   "execution_count": null,
   "id": "d07e2c32",
   "metadata": {},
   "outputs": [],
   "source": [
    "df = pd.DataFrame.from_dict(results).T\n",
    "df"
   ]
  },
  {
   "cell_type": "markdown",
   "id": "0930a007",
   "metadata": {},
   "source": [
    "Save dataframe with the results table into CSV file."
   ]
  },
  {
   "cell_type": "code",
   "execution_count": null,
   "id": "4db22b9e",
   "metadata": {},
   "outputs": [],
   "source": [
    "import os \n",
    "\n",
    "DIR = 'results'\n",
    "os.makedirs(DIR, exist_ok=True)\n",
    "\n",
    "df.to_csv(DIR+f'/data_{stock_analyzer.nyears}.csv', header=True)"
   ]
  }
 ],
 "metadata": {
  "kernelspec": {
   "display_name": "fin-stock",
   "language": "python",
   "name": "fin-stock"
  },
  "language_info": {
   "codemirror_mode": {
    "name": "ipython",
    "version": 3
   },
   "file_extension": ".py",
   "mimetype": "text/x-python",
   "name": "python",
   "nbconvert_exporter": "python",
   "pygments_lexer": "ipython3",
   "version": "3.9.13"
  }
 },
 "nbformat": 4,
 "nbformat_minor": 5
}
