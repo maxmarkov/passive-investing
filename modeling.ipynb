{
 "cells": [
  {
   "attachments": {},
   "cell_type": "markdown",
   "id": "7ce7208a",
   "metadata": {},
   "source": [
    "# Total return distributions\n",
    "\n",
    "This notebook shows how to compute stock index statistics.\n",
    "\n",
    "Import libraries and load data:"
   ]
  },
  {
   "cell_type": "code",
   "execution_count": null,
   "id": "0256ceac",
   "metadata": {},
   "outputs": [],
   "source": [
    "import os\n",
    "import pickle\n",
    "import scipy\n",
    "\n",
    "import pandas as pd\n",
    "import numpy as np\n",
    "\n",
    "import matplotlib.pyplot as plt\n",
    "%matplotlib inline\n",
    "\n",
    "from src.analyzer import StockIndexAnalyzer\n",
    "from src.analyzer import scipy_fit\n",
    "\n",
    "# PATH TO DATA\n",
    "FILEPATH = \"data/all_indexes_2006-01-01_2021-12-31.pickle\"\n",
    "\n",
    "with open(FILEPATH, \"rb\") as f:\n",
    "    data = pickle.load(f)\n",
    "\n",
    "START_YEAR = 2006\n",
    "END_YEAR = 2021"
   ]
  },
  {
   "attachments": {},
   "cell_type": "markdown",
   "id": "4faeb8fe",
   "metadata": {},
   "source": [
    "Define groups of indexes:"
   ]
  },
  {
   "cell_type": "code",
   "execution_count": null,
   "id": "51f8c75f",
   "metadata": {},
   "outputs": [],
   "source": [
    "# Unites States indexes\n",
    "indexes_usa = ['SPX','CCMP','RIY','RTY','RAY','RLV','RLG','NBI']\n",
    "\n",
    "# S&P500 sectors\n",
    "indexes_sp500 = ['S5COND','S5CONS','S5ENRS','S5FINL','S5HLTH','S5INFT','S5MATR','S5TELS','S5UTIL','S5INDU']\n",
    "\n",
    "# European indexes\n",
    "indexes_eu = ['DAX','CAC','UKX','BEL20','IBEX','KFX','OMX','SMI']\n",
    "\n",
    "# Asia Pacific indexes\n",
    "indexes_apac = ['AS51'] \n",
    "\n",
    "# Japan indexes\n",
    "indexes_jp = ['NKY','TPX']\n",
    "\n",
    "# BRIC indexes\n",
    "indexes_bric = ['IBOV','NIFTY','MXIN','SHCOMP','SHSZ300'] \n",
    "\n",
    "# All indexes: merge all lists\n",
    "indexes_all = indexes_usa + indexes_sp500 + indexes_eu + indexes_apac + indexes_jp + indexes_bric"
   ]
  },
  {
   "cell_type": "markdown",
   "id": "7c620f91",
   "metadata": {},
   "source": [
    "Loop over all indexes to compute empirical statistics (mean, median and mode). The resuts are saved into dictionary."
   ]
  },
  {
   "cell_type": "code",
   "execution_count": null,
   "id": "8ed096e8",
   "metadata": {},
   "outputs": [],
   "source": [
    "results_expt = {}   # histogram statistics \n",
    "results_mcmc = {}   # fit histogram with MCMC\n",
    "results_scipy = {}  # fit histogram with scipy\n",
    "\n",
    "results_cumulative = {}\n",
    "\n",
    "# random seed parametbins = self.bins,er to insure reproducibily of qqplot with seaborn\n",
    "SEED = 99\n",
    "np.random.seed(SEED)\n",
    "\n",
    "for index_name in indexes_all:\n",
    "    \n",
    "    print(f\"Processing {index_name} index\")\n",
    "    \n",
    "    # class computes total returns and estimates empirical distribution parameters\n",
    "    stock_analyzer = StockIndexAnalyzer(prices = data[index_name],\n",
    "                                        stock_index = index_name,\n",
    "                                        start_year = START_YEAR,\n",
    "                                        end_year = END_YEAR)\n",
    "\n",
    "    # plot empirical histogram with two (left and right) cumulative bins\n",
    "    stock_analyzer._plot_histogram()\n",
    "    \n",
    "    # Part 1. Compute empirical stock index distribution parameter ###\n",
    "    #stock_analyzer.plot_histogram_fit(save_data=False)\n",
    "\n",
    "    results_expt[index_name] = stock_analyzer._empirical_distribution_table()\n",
    "\n",
    "    stock_analyzer._plot_reverse_cumulative_histogram()\n",
    "    # TODO:\n",
    "    # 1. plot_histogram_fit\n",
    "    # 2. refactor scipy_fit and move it to analyzer\n",
    "    break\n",
    "\n",
    "    ##results_scipy[index_name] = stock_analyzer.compare_stats()\n",
    "    #results_scipy[index_name] = scipy_fit(df=stock_analyzer.mu.copy())\n",
    "    \n",
    "    ### Part 2: fit index histogram with MCMC ###\n",
    "    #results_mcmc[index_name] = stock_analyzer.pymc3_fit(draws=10000, tune=5000)\n",
    "    \n",
    "    #summary = stock_analyzer.find_best_distribution()\n",
    "    ##print(summary)\n",
    "    #results_mcmc[index_name]['lognorm error'] = summary.loc['lognorm']['sumsquare_error']\n",
    "    #results_mcmc[index_name]['best distr'] = summary.sort_values('sumsquare_error').iloc[0].name\n",
    "    #results_mcmc[index_name]['best distr error'] = summary.sort_values('sumsquare_error').iloc[0]['sumsquare_error']\n",
    "    \n",
    "    #### Part 3: estimate QQ plot\n",
    "    #stock_analyzer.plot_qq()\n",
    "    \n",
    "    #try:\n",
    "    #    stock_analyzer.plot_qq_seaborn()\n",
    "    #except:\n",
    "    #    continue\n",
    "    #break"
   ]
  },
  {
   "cell_type": "markdown",
   "id": "319c8c13",
   "metadata": {},
   "source": [
    "Transform results dictionary into DataFrame. Transpose the table to have indexes as rows."
   ]
  },
  {
   "cell_type": "code",
   "execution_count": null,
   "id": "6d215b01",
   "metadata": {},
   "outputs": [],
   "source": [
    "# columns to be rounded\n",
    "col_dec2 = ['logn mean','logn median','logn mode','logn mu','logn sigma','logn sigma2','C']\n",
    "\n",
    "df_scipy = pd.DataFrame.from_dict(results_scipy).T\n",
    "df_scipy[col_dec2] = df_scipy[col_dec2].astype(float).round(2)\n",
    "df_scipy"
   ]
  },
  {
   "cell_type": "code",
   "execution_count": null,
   "id": "f5039509",
   "metadata": {},
   "outputs": [],
   "source": [
    "# columns to be rounded\n",
    "col_dec2 = ['logn mean','logn median','logn mode','logn mu','logn sigma','logn sigma2','C']\n",
    "col_dec3 = ['muh','sigmah','sigma']\n",
    "col_dec4 = ['lognorm error', 'best distr error']\n",
    "\n",
    "df_mcmc = pd.DataFrame.from_dict(results_mcmc).T\n",
    "df_mcmc = df_mcmc.drop(['muh std','sigma std', 'sigmah std'], axis=1)\n",
    "df_mcmc[col_dec2] = df_mcmc[col_dec2].astype(float).round(2)\n",
    "df_mcmc[col_dec3] = df_mcmc[col_dec3].astype(float).round(3)\n",
    "df_mcmc[col_dec4] = df_mcmc[col_dec4].astype(float).round(4)\n",
    "df_mcmc"
   ]
  },
  {
   "cell_type": "code",
   "execution_count": null,
   "id": "d07e2c32",
   "metadata": {},
   "outputs": [],
   "source": [
    "# columns to be rounded\n",
    "col_dec = ['mean','mode','median','mean/median','mean/mode']\n",
    "\n",
    "df_expt = pd.DataFrame.from_dict(results_expt).T\n",
    "df_expt[col_dec] = df_expt[col_dec].astype(float).round(2)\n",
    "df_expt"
   ]
  },
  {
   "cell_type": "code",
   "execution_count": null,
   "id": "ec9bfd28",
   "metadata": {},
   "outputs": [],
   "source": [
    "df_expt.to_latex()"
   ]
  },
  {
   "cell_type": "code",
   "execution_count": null,
   "id": "012bb760",
   "metadata": {},
   "outputs": [],
   "source": [
    "#df_mcmc.to_latex()"
   ]
  },
  {
   "cell_type": "code",
   "execution_count": null,
   "id": "bb283b5d",
   "metadata": {
    "scrolled": true
   },
   "outputs": [],
   "source": [
    "df_scipy.to_latex()"
   ]
  },
  {
   "cell_type": "markdown",
   "id": "0930a007",
   "metadata": {},
   "source": [
    "Save dataframe with the results table into CSV file."
   ]
  },
  {
   "cell_type": "code",
   "execution_count": null,
   "id": "e805e077",
   "metadata": {},
   "outputs": [],
   "source": [
    "DIR = 'results'\n",
    "os.makedirs(DIR, exist_ok=True)\n",
    "\n",
    "df_expt.to_csv(DIR+f'/data_emprirical_{stock_analyzer.nyears}.csv', header=True)\n",
    "df_mcmc.to_csv(DIR+f'/data_mcmc_{stock_analyzer.nyears}.csv', header=True)\n",
    "df_scipy.to_csv(DIR+f'/data_scipy_{stock_analyzer.nyears}.csv', header=True)"
   ]
  }
 ],
 "metadata": {
  "kernelspec": {
   "display_name": "Python 3.9.13 ('fin-stock')",
   "language": "python",
   "name": "python3"
  },
  "language_info": {
   "codemirror_mode": {
    "name": "ipython",
    "version": 3
   },
   "file_extension": ".py",
   "mimetype": "text/x-python",
   "name": "python",
   "nbconvert_exporter": "python",
   "pygments_lexer": "ipython3",
   "version": "3.9.13"
  },
  "vscode": {
   "interpreter": {
    "hash": "96bf89713d8944abf8dbac25952e5d57c70041b1a74f98723cd0c89da88c5075"
   }
  }
 },
 "nbformat": 4,
 "nbformat_minor": 5
}
