{
 "cells": [
  {
   "cell_type": "code",
   "execution_count": 1,
   "id": "625423d2",
   "metadata": {},
   "outputs": [
    {
     "data": {
      "text/html": [
       "<div>\n",
       "<style scoped>\n",
       "    .dataframe tbody tr th:only-of-type {\n",
       "        vertical-align: middle;\n",
       "    }\n",
       "\n",
       "    .dataframe tbody tr th {\n",
       "        vertical-align: top;\n",
       "    }\n",
       "\n",
       "    .dataframe thead th {\n",
       "        text-align: right;\n",
       "    }\n",
       "</style>\n",
       "<table border=\"1\" class=\"dataframe\">\n",
       "  <thead>\n",
       "    <tr style=\"text-align: right;\">\n",
       "      <th></th>\n",
       "      <th>Unnamed: 0</th>\n",
       "      <th>category</th>\n",
       "      <th>years</th>\n",
       "      <th>n_stocks</th>\n",
       "      <th>n_stocks_data</th>\n",
       "      <th>mean</th>\n",
       "      <th>median</th>\n",
       "      <th>mode</th>\n",
       "      <th>mean/median</th>\n",
       "      <th>mean/mode</th>\n",
       "    </tr>\n",
       "  </thead>\n",
       "  <tbody>\n",
       "    <tr>\n",
       "      <th>0</th>\n",
       "      <td>SPX</td>\n",
       "      <td>US</td>\n",
       "      <td>16</td>\n",
       "      <td>503</td>\n",
       "      <td>385</td>\n",
       "      <td>10.744971</td>\n",
       "      <td>6.116911</td>\n",
       "      <td>5.437144</td>\n",
       "      <td>1.756601</td>\n",
       "      <td>1.976216</td>\n",
       "    </tr>\n",
       "    <tr>\n",
       "      <th>1</th>\n",
       "      <td>CCMP</td>\n",
       "      <td>US</td>\n",
       "      <td>16</td>\n",
       "      <td>3763</td>\n",
       "      <td>961</td>\n",
       "      <td>5.549051</td>\n",
       "      <td>2.277316</td>\n",
       "      <td>2.383438</td>\n",
       "      <td>2.436663</td>\n",
       "      <td>2.328171</td>\n",
       "    </tr>\n",
       "    <tr>\n",
       "      <th>2</th>\n",
       "      <td>RIY</td>\n",
       "      <td>US</td>\n",
       "      <td>16</td>\n",
       "      <td>1018</td>\n",
       "      <td>619</td>\n",
       "      <td>9.395557</td>\n",
       "      <td>5.530581</td>\n",
       "      <td>5.015002</td>\n",
       "      <td>1.698837</td>\n",
       "      <td>1.873490</td>\n",
       "    </tr>\n",
       "    <tr>\n",
       "      <th>3</th>\n",
       "      <td>RTY</td>\n",
       "      <td>US</td>\n",
       "      <td>16</td>\n",
       "      <td>1972</td>\n",
       "      <td>736</td>\n",
       "      <td>4.039587</td>\n",
       "      <td>2.563193</td>\n",
       "      <td>2.792979</td>\n",
       "      <td>1.575998</td>\n",
       "      <td>1.446336</td>\n",
       "    </tr>\n",
       "    <tr>\n",
       "      <th>4</th>\n",
       "      <td>RAY</td>\n",
       "      <td>US</td>\n",
       "      <td>16</td>\n",
       "      <td>2990</td>\n",
       "      <td>1355</td>\n",
       "      <td>6.486337</td>\n",
       "      <td>3.665958</td>\n",
       "      <td>3.618362</td>\n",
       "      <td>1.769343</td>\n",
       "      <td>1.792617</td>\n",
       "    </tr>\n",
       "  </tbody>\n",
       "</table>\n",
       "</div>"
      ],
      "text/plain": [
       "  Unnamed: 0 category  years  n_stocks  n_stocks_data       mean    median  \\\n",
       "0        SPX       US     16       503            385  10.744971  6.116911   \n",
       "1       CCMP       US     16      3763            961   5.549051  2.277316   \n",
       "2        RIY       US     16      1018            619   9.395557  5.530581   \n",
       "3        RTY       US     16      1972            736   4.039587  2.563193   \n",
       "4        RAY       US     16      2990           1355   6.486337  3.665958   \n",
       "\n",
       "       mode  mean/median  mean/mode  \n",
       "0  5.437144     1.756601   1.976216  \n",
       "1  2.383438     2.436663   2.328171  \n",
       "2  5.015002     1.698837   1.873490  \n",
       "3  2.792979     1.575998   1.446336  \n",
       "4  3.618362     1.769343   1.792617  "
      ]
     },
     "execution_count": 1,
     "metadata": {},
     "output_type": "execute_result"
    }
   ],
   "source": [
    "import pandas as pd\n",
    "import matplotlib.pyplot as plt\n",
    "\n",
    "df_16 = pd.read_csv('results/data_16.csv')\n",
    "df_8a = pd.read_csv('results/data_8_first.csv')\n",
    "df_8b = pd.read_csv('results/data_8_last.csv')\n",
    "df_16.head(5)"
   ]
  },
  {
   "cell_type": "markdown",
   "id": "34f4509d",
   "metadata": {},
   "source": [
    "# 8 years"
   ]
  },
  {
   "cell_type": "code",
   "execution_count": 2,
   "id": "8077e14e",
   "metadata": {},
   "outputs": [
    {
     "data": {
      "text/plain": [
       "[<matplotlib.lines.Line2D at 0x7f04871e3c40>]"
      ]
     },
     "execution_count": 2,
     "metadata": {},
     "output_type": "execute_result"
    },
    {
     "data": {
      "image/png": "[encoded data removed]",
      "text/plain": [
       "<Figure size 432x288 with 1 Axes>"
      ]
     },
     "metadata": {
      "needs_background": "light"
     },
     "output_type": "display_data"
    }
   ],
   "source": [
    "plt.scatter(df_8a[\"mean/median\"], df_8b[\"mean/median\"])\n",
    "x_values = [1, 3]\n",
    "y_values = [1, 3]\n",
    "plt.plot(x_values, y_values, 'ro', linestyle=\"--\")"
   ]
  },
  {
   "cell_type": "code",
   "execution_count": 3,
   "id": "f23e0ecd",
   "metadata": {},
   "outputs": [
    {
     "data": {
      "text/plain": [
       "[<matplotlib.lines.Line2D at 0x7f04870ecf70>]"
      ]
     },
     "execution_count": 3,
     "metadata": {},
     "output_type": "execute_result"
    },
    {
     "data": {
      "image/png": "[encoded data removed]",
      "text/plain": [
       "<Figure size 432x288 with 1 Axes>"
      ]
     },
     "metadata": {
      "needs_background": "light"
     },
     "output_type": "display_data"
    }
   ],
   "source": [
    "plt.scatter(df_8a[\"mean/mode\"], df_8b[\"mean/mode\"])\n",
    "plt.plot(x_values, y_values, 'ro', linestyle=\"--\")"
   ]
  },
  {
   "cell_type": "markdown",
   "id": "18e929d7",
   "metadata": {},
   "source": [
    "# 8 years vs 16 years"
   ]
  },
  {
   "cell_type": "code",
   "execution_count": 13,
   "id": "2ab51b9c",
   "metadata": {},
   "outputs": [
    {
     "data": {
      "text/plain": [
       "[<matplotlib.lines.Line2D at 0x7f04840afb50>]"
      ]
     },
     "execution_count": 13,
     "metadata": {},
     "output_type": "execute_result"
    },
    {
     "data": {
      "image/png": "[encoded data removed]",
      "text/plain": [
       "<Figure size 432x288 with 1 Axes>"
      ]
     },
     "metadata": {
      "needs_background": "light"
     },
     "output_type": "display_data"
    }
   ],
   "source": [
    "plt.scatter(df_16[\"mean/median\"], df_8a[\"mean/median\"])\n",
    "x_values = [1, 4]\n",
    "y_values = [1, 2]\n",
    "plt.plot(x_values, y_values, 'ro', linestyle=\"--\")"
   ]
  },
  {
   "cell_type": "code",
   "execution_count": 5,
   "id": "59283630",
   "metadata": {},
   "outputs": [
    {
     "ename": "SyntaxError",
     "evalue": "invalid syntax (1948459046.py, line 1)",
     "output_type": "error",
     "traceback": [
      "\u001b[0;36m  Input \u001b[0;32mIn [5]\u001b[0;36m\u001b[0m\n\u001b[0;31m    plt.scatter(df_16.loc[category='US'][\"mean/median\"], df_8bloc[category='US'][\"mean/median\"])\u001b[0m\n\u001b[0m                                  ^\u001b[0m\n\u001b[0;31mSyntaxError\u001b[0m\u001b[0;31m:\u001b[0m invalid syntax\n"
     ]
    }
   ],
   "source": [
    "plt.scatter(df_16.loc[category='US'][\"mean/median\"], df_8bloc[category='US'][\"mean/median\"])\n",
    "plt.plot(x_values, y_values, 'ro', linestyle=\"--\")"
   ]
  },
  {
   "cell_type": "code",
   "execution_count": 11,
   "id": "6cb3509b",
   "metadata": {},
   "outputs": [
    {
     "data": {
      "text/plain": [
       "[<matplotlib.lines.Line2D at 0x7f04841851c0>]"
      ]
     },
     "execution_count": 11,
     "metadata": {},
     "output_type": "execute_result"
    },
    {
     "data": {
      "image/png": "[encoded data removed]",
      "text/plain": [
       "<Figure size 432x288 with 1 Axes>"
      ]
     },
     "metadata": {
      "needs_background": "light"
     },
     "output_type": "display_data"
    }
   ],
   "source": [
    "df_16.loc[df_16.category=='EU']\n",
    "plt.scatter(df_16.loc[df_16.category=='US'][\"mean/median\"], df_8b.loc[df_8b.category=='US'][\"mean/median\"])\n",
    "plt.plot(x_values, y_values, 'ro', linestyle=\"--\")"
   ]
  },
  {
   "cell_type": "code",
   "execution_count": null,
   "id": "601b3d76",
   "metadata": {},
   "outputs": [],
   "source": []
  }
 ],
 "metadata": {
  "kernelspec": {
   "display_name": "fin-stock",
   "language": "python",
   "name": "fin-stock"
  },
  "language_info": {
   "codemirror_mode": {
    "name": "ipython",
    "version": 3
   },
   "file_extension": ".py",
   "mimetype": "text/x-python",
   "name": "python",
   "nbconvert_exporter": "python",
   "pygments_lexer": "ipython3",
   "version": "3.9.13"
  }
 },
 "nbformat": 4,
 "nbformat_minor": 5
}
