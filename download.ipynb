{
 "cells": [
  {
   "cell_type": "markdown",
   "metadata": {},
   "source": [
    "# Download data from Yahoo Finance\n",
    "\n",
    "Import libraries and define constant variables"
   ]
  },
  {
   "cell_type": "code",
   "execution_count": null,
   "metadata": {},
   "outputs": [],
   "source": [
    "from src.downloader import StockIndexDownloader\n",
    "import os\n",
    "\n",
    "FORMAT = 'parquet'\n",
    "FOLDER = 'data_example'\n",
    "\n",
    "STOCK_INDEX_LIST = ['venture', 'biotech', 'dow', 'ftse100', 'ftse250', 'ibovespa', 'nasdaq', 'nifty50', 'niftybank'#, 'sp500']"
   ]
  },
  {
   "cell_type": "markdown",
   "metadata": {},
   "source": [
    "Download all index data"
   ]
  },
  {
   "cell_type": "code",
   "execution_count": 2,
   "metadata": {},
   "outputs": [],
   "source": [
    "for i, stock_index in enumerate(STOCK_INDEX_LIST):\n",
    "    print(i, stock_index)\n",
    "    \n",
    "    stockind = StockIndexDownloader(stock_index, start_date=\"01/01/2005\", end_date=\"01/01/2022\", interval = \"1mo\")\n",
    "    \n",
    "    os.makedirs(FOLDER, exist_ok=True)\n",
    "    \n",
    "    if FORMAT == 'parquet':\n",
    "        stockind.save_prices_parquet(filename=f'{FOLDER}/prices_{stock_index}.parquet.gzip')\n",
    "    else:\n",
    "        stockind.save_prices_csv(filename=f'{FOLDER}/prices_{stock_index}.csv')"
   ]
  },
  {
   "cell_type": "markdown",
   "metadata": {},
   "source": [
    "Download by sector or geography"
   ]
  },
  {
   "cell_type": "code",
   "execution_count": null,
   "metadata": {},
   "outputs": [],
   "source": [
    "STOCK_INDEX_FOLDER = 'index-tickers/sp500_sectors/'\n",
    "STOCK_INDEX_LIST = os.listdir(STOCK_INDEX_FOLDER)\n",
    "\n",
    "for i, stock_index in enumerate(STOCK_INDEX_LIST):\n",
    "\n",
    "    index_name = stock_index.split('_')[0]\n",
    "\n",
    "    df = pd.read_csv(os.path.join(STOCK_INDEX_FOLDER, stock_index))\n",
    "\n",
    "    stockind = StockIndexDownloader(stock_index=index_name, start_date=\"01/01/2005\", end_date=\"01/01/2022\", interval = \"1mo\")\n",
    "    \n",
    "    os.makedirs(FOLDER, exist_ok=True)\n",
    "    \n",
    "    if FORMAT == 'parquet':\n",
    "        stockind.save_prices_parquet(filename=f'{FOLDER}/prices_{stock_index}.parquet.gzip')\n",
    "    else:\n",
    "        stockind.save_prices_csv(filename=f'{FOLDER}/prices_{stock_index}.csv')"
   ]
  }
 ],
 "metadata": {
  "kernelspec": {
   "display_name": "Python 3.9.12 ('base')",
   "language": "python",
   "name": "python3"
  },
  "language_info": {
   "codemirror_mode": {
    "name": "ipython",
    "version": 3
   },
   "file_extension": ".py",
   "mimetype": "text/x-python",
   "name": "python",
   "nbconvert_exporter": "python",
   "pygments_lexer": "ipython3",
   "version": "3.9.12"
  },
  "orig_nbformat": 4,
  "vscode": {
   "interpreter": {
    "hash": "303b8bf0814a403eb1428547aa4d49331caf4f4c07e4691d9e5d269ee55b613a"
   }
  }
 },
 "nbformat": 4,
 "nbformat_minor": 2
}
