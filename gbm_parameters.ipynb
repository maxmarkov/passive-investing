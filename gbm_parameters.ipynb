{
 "cells": [
  {
   "attachments": {},
   "cell_type": "markdown",
   "metadata": {},
   "source": [
    "# Part 3: Evaluate Geometrical Brownian Motion Parameters\n",
    "\n",
    "**Notebook is under cleaning**\n",
    "\n",
    "Import libraries"
   ]
  },
  {
   "cell_type": "code",
   "execution_count": null,
   "metadata": {},
   "outputs": [],
   "source": [
    "import os\n",
    "import pickle\n",
    "\n",
    "import numpy as np\n",
    "import pandas as pd\n",
    "\n",
    "import matplotlib.pyplot as plt\n",
    "%matplotlib inline\n",
    "import seaborn as sns\n",
    "\n",
    "from src.gbm import (drift_sigma_maxlikelihood, compute_gbm_params, fit_drift_skewnormal,\n",
    "                     plot_drift_distribution_fits, plot_sigma_distribution_fits,\n",
    "                     linear_regression_fit, plot_kde, plot_drift_vs_sigma_fit)\n",
    "\n",
    "# PATH TO DATA\n",
    "FILEPATH = \"data/all_indexes_2006-01-01_2021-12-31.pickle\"\n",
    "\n",
    "with open(FILEPATH, \"rb\") as f:\n",
    "    data = pickle.load(f)\n",
    "\n",
    "START_YEAR = 2006\n",
    "END_YEAR = 2021\n",
    "\n",
    "DIR_KDE_FIT = 'results/gbm_parameters/kde_fit'"
   ]
  },
  {
   "attachments": {},
   "cell_type": "markdown",
   "metadata": {},
   "source": [
    "Define groups of indexes:"
   ]
  },
  {
   "cell_type": "code",
   "execution_count": null,
   "metadata": {},
   "outputs": [],
   "source": [
    "# Unites States indexes\n",
    "indexes_usa = ['SPX','CCMP','RIY','RTY','RAY','RLV','RLG','NBI']\n",
    "\n",
    "# S&P500 sectors\n",
    "indexes_sp500 = ['S5COND','S5CONS','S5ENRS','S5FINL','S5HLTH','S5INFT','S5MATR','S5TELS','S5UTIL','S5INDU']\n",
    "\n",
    "# European indexes\n",
    "indexes_eu = ['DAX','CAC','UKX','BEL20','IBEX','KFX','OMX','SMI']\n",
    "\n",
    "# Asia Pacific indexes\n",
    "indexes_apac = ['AS51'] \n",
    "\n",
    "# Japan indexes\n",
    "indexes_jp = ['NKY','TPX']\n",
    "\n",
    "# BRIC indexes\n",
    "indexes_bric = ['IBOV','NIFTY','MXIN','SHCOMP','SHSZ300'] \n",
    "\n",
    "# All indexes: merge all lists\n",
    "indexes_all = indexes_usa + indexes_sp500 + indexes_eu + indexes_apac + indexes_jp + indexes_bric\n",
    "\n",
    "index_list = ['CAC']"
   ]
  },
  {
   "cell_type": "markdown",
   "metadata": {},
   "source": [
    "Compute GBM parameters and fit them with linear function."
   ]
  },
  {
   "cell_type": "code",
   "execution_count": null,
   "metadata": {},
   "outputs": [],
   "source": [
    "results_fit = []\n",
    "\n",
    "data_index = {}\n",
    "\n",
    "for index_name in index_list:\n",
    "    \n",
    "    print(f\"Processing {index_name} index\")\n",
    "    \n",
    "    df = compute_gbm_params(data, index_name)\n",
    "\n",
    "    #data_index[index_name] = {'exp_mean_to_median': np.mean(df['rho'])/np.median(df['rho']),\n",
    "    #                          'exp_mean_rho': np.mean(df['rho']),\n",
    "    #                          'exp_median_rho': np.median(df['rho'])}\n",
    "\n",
    "    ## === Drift vs sigma (volatility) === ##\n",
    "    ## The scatter plot does not show any clear pattern\n",
    "    a, b, r2, corr = linear_regression_fit(df = df, index_name=index_name, fit_intercept = True, huber=True)\n",
    "\n",
    "    ## === Drift and sigma KDE plots === #\n",
    "    title = 'GBM drift distribution. Index {}'.format(index_name)\n",
    "    plot_kde(df.drift, title, 'drift', index_name)\n",
    "\n",
    "    title = 'GBM volatility distribution. Index {}'.format(index_name)\n",
    "    plot_kde(df.sigma, title, 'volatility', index_name) \n",
    "\n",
    "    ## === Skenormal fit of the drift distribution === ##\n",
    "    drift_skewnorm = fit_drift_skewnormal(df.drift)\n",
    "    print(drift_skewnorm)\n",
    "\n",
    "    plot_drift_distribution_fits(df.drift, index_name)\n",
    "    plot_sigma_distribution_fits(df.sigma, index_name)\n",
    "\n",
    "    corrcoeff = np.corrcoef(np.array(df.drift, dtype=float), np.array(df.sigma, dtype=float))[0,1]\n",
    "\n",
    "\n",
    "#df_fit = pd.DataFrame.from_dict(results_fit, orient='columns')\n",
    "#df_fit"
   ]
  },
  {
   "attachments": {},
   "cell_type": "markdown",
   "metadata": {},
   "source": [
    "Select columns:"
   ]
  },
  {
   "cell_type": "code",
   "execution_count": null,
   "metadata": {},
   "outputs": [],
   "source": [
    "columns_paper=['index_name','drift_mean','drift_std','drift_loc','drift_scale','drift_skewp','sigma_mean','sigma_alpha','sigma_beta','a','b','R2','corr_drift_sigma']\n",
    "dmu_paper=dmu[columns_paper]"
   ]
  }
 ],
 "metadata": {
  "kernelspec": {
   "display_name": "fin-stock",
   "language": "python",
   "name": "fin-stock"
  },
  "language_info": {
   "codemirror_mode": {
    "name": "ipython",
    "version": 3
   },
   "file_extension": ".py",
   "mimetype": "text/x-python",
   "name": "python",
   "nbconvert_exporter": "python",
   "pygments_lexer": "ipython3",
   "version": "3.9.13"
  },
  "orig_nbformat": 4
 },
 "nbformat": 4,
 "nbformat_minor": 2
}
