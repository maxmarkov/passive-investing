{
 "cells": [
  {
   "attachments": {},
   "cell_type": "markdown",
   "metadata": {},
   "source": [
    "# Part 3: Evaluate Geometrical Brownian Motion Parameters\n",
    "\n",
    "To better understand the mechanism of index returns, we fit a geometric Brownian motion (GBM) model to index constituents and extract index drift and volatility parameters. We observe a diverse range of relations between drift and volatility, which helps build a microscopic model of index returns, and quantify the effect of big winners.\n",
    "\n",
    "Import libraries"
   ]
  },
  {
   "cell_type": "code",
   "execution_count": null,
   "metadata": {},
   "outputs": [],
   "source": [
    "import os\n",
    "import pickle\n",
    "\n",
    "import numpy as np\n",
    "import pandas as pd\n",
    "\n",
    "import matplotlib.pyplot as plt\n",
    "%matplotlib inline\n",
    "import seaborn as sns\n",
    "\n",
    "from src.gbm import (drift_sigma_maxlikelihood, compute_gbm_params, fit_drift_skewnormal, fit_volatility_gamma,\n",
    "                     plot_gbm_parameter_distribution, linear_regression_fit, plot_kde, plot_drift_vs_sigma_fit)\n",
    "\n",
    "# PATH TO DATA\n",
    "FILEPATH = \"data/all_indexes_2006-01-01_2021-12-31.pickle\"\n",
    "\n",
    "with open(FILEPATH, \"rb\") as f:\n",
    "    data = pickle.load(f)\n",
    "\n",
    "START_YEAR = 2006\n",
    "END_YEAR = 2021\n",
    "\n",
    "T = END_YEAR - START_YEAR"
   ]
  },
  {
   "attachments": {},
   "cell_type": "markdown",
   "metadata": {},
   "source": [
    "Define groups of indexes:"
   ]
  },
  {
   "cell_type": "code",
   "execution_count": null,
   "metadata": {},
   "outputs": [],
   "source": [
    "# Unites States indexes\n",
    "indexes_usa = ['SPX','CCMP','RIY','RTY','RAY','RLV','RLG','NBI']\n",
    "\n",
    "# S&P500 sectors\n",
    "indexes_sp500 = ['S5COND','S5CONS','S5ENRS','S5FINL','S5HLTH','S5INFT','S5MATR','S5TELS','S5UTIL','S5INDU']\n",
    "\n",
    "# European indexes\n",
    "indexes_eu = ['DAX','CAC','UKX','BEL20','IBEX','KFX','OMX','SMI']\n",
    "\n",
    "# Asia Pacific indexes\n",
    "indexes_apac = ['AS51'] \n",
    "\n",
    "# Japan indexes\n",
    "indexes_jp = ['NKY','TPX']\n",
    "\n",
    "# BRIC indexes\n",
    "indexes_bric = ['IBOV','NIFTY','MXIN','SHCOMP','SHSZ300'] \n",
    "\n",
    "# All indexes: merge all lists\n",
    "indexes_all = indexes_usa + indexes_sp500 + indexes_eu + indexes_apac + indexes_jp + indexes_bric\n",
    "\n",
    "index_list = ['SPX']"
   ]
  },
  {
   "cell_type": "markdown",
   "metadata": {},
   "source": [
    "Compute GBM parameters and fit them with linear function."
   ]
  },
  {
   "cell_type": "code",
   "execution_count": null,
   "metadata": {},
   "outputs": [],
   "source": [
    "results_fit = []\n",
    "\n",
    "data_index = {}\n",
    "\n",
    "for index_name in indexes_all:\n",
    "    \n",
    "    print(f\"Processing {index_name} index\")\n",
    "    \n",
    "    df = compute_gbm_params(data, index_name)\n",
    "\n",
    "    ## === Drift vs sigma (volatility) === ##\n",
    "    ## The scatter plot does not show any clear pattern\n",
    "    a, b, r2, corr = linear_regression_fit(df = df, index_name=index_name, fit_intercept = True, huber=True)\n",
    "\n",
    "    data_index[index_name] = {'a': a, 'b': b, 'R2': r2, 'corr': corr}\n",
    "\n",
    "    ## === Drift and sigma KDE plots === #\n",
    "    title = 'GBM drift distribution. Index {}'.format(index_name)\n",
    "    plot_kde(df.drift, title, 'drift', index_name)\n",
    "\n",
    "    title = 'GBM volatility distribution. Index {}'.format(index_name)\n",
    "    plot_kde(df.sigma, title, 'volatility', index_name) \n",
    "\n",
    "    ## === Skenormal fit of the drift distribution === ##\n",
    "    drift_skewnorm = fit_drift_skewnormal(df.drift)\n",
    "    volatility_gamma = fit_volatility_gamma(df.sigma)\n",
    "\n",
    "    data_index[index_name].update(drift_skewnorm)\n",
    "    data_index[index_name].update(volatility_gamma)\n",
    "\n",
    "    #model_stats = {'model_mean_to_median': np.exp(0.5*volatility_gamma['sigma_mode']**2*T + 0.5*drift_skewnorm['mu_std']**2*T**2),\n",
    "    #                'model_mean_to_mode': np.exp(3./2.*volatility_gamma['sigma_mode']**2*T + drift_skewnorm['mu_std']**2*T**2),\n",
    "    #                'model_mean_rho': np.exp(drift_skewnorm['mu_mean']*T + 0.5*drift_skewnorm['mu_std']**2*T**2),\n",
    "    #                'model_median_rho': np.exp(drift_skewnorm['mu_mean']*T - 0.5*volatility_gamma['sigma_mode']**2*T)}\n",
    "    #data_index[index_name].update(model_stats)\n",
    "\n",
    "    corrcoeff = np.corrcoef(np.array(df.drift, dtype=float), np.array(df.sigma, dtype=float))[0,1]\n",
    "    data_index[index_name].update({'corr_drift_sigma': corrcoeff})\n",
    "\n",
    "    plot_gbm_parameter_distribution(df.drift, index_name, 'drift')\n",
    "    plot_gbm_parameter_distribution(df.sigma, index_name, 'volatility')\n",
    "\n",
    "df_results = pd.DataFrame.from_dict(data_index, orient='index')"
   ]
  },
  {
   "cell_type": "code",
   "execution_count": null,
   "metadata": {},
   "outputs": [],
   "source": [
    "# columns to be displayed in the paper\n",
    "columns_paper = ['drift_mean','drift_std','drift_loc','drift_scale','drift_skewp','sigma_mean','sigma_alpha','sigma_beta','a','b','R2','corr_drift_sigma']\n",
    "\n",
    "# select columns to be displayed in the paper\n",
    "df_paper = df_results[columns_paper]\n",
    "\n",
    "df_paper.round(2)"
   ]
  },
  {
   "cell_type": "code",
   "execution_count": null,
   "metadata": {},
   "outputs": [],
   "source": [
    "df_paper.to_csv('index_mu_sigma_distribution_paper_version.csv',index=False)\n",
    "df_paper.round(2).to_latex(index=False)"
   ]
  }
 ],
 "metadata": {
  "kernelspec": {
   "display_name": "fin-stock",
   "language": "python",
   "name": "fin-stock"
  },
  "language_info": {
   "codemirror_mode": {
    "name": "ipython",
    "version": 3
   },
   "file_extension": ".py",
   "mimetype": "text/x-python",
   "name": "python",
   "nbconvert_exporter": "python",
   "pygments_lexer": "ipython3",
   "version": "3.9.13"
  },
  "orig_nbformat": 4
 },
 "nbformat": 4,
 "nbformat_minor": 2
}
