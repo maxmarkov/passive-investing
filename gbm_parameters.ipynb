{
 "cells": [
  {
   "attachments": {},
   "cell_type": "markdown",
   "metadata": {},
   "source": [
    "# Part 3: Evaluate Geometrical Brownian Motion Parameters\n",
    "\n",
    "**Notebook is under cleaning**\n",
    "\n",
    "Import libraries"
   ]
  },
  {
   "cell_type": "code",
   "execution_count": 1,
   "metadata": {},
   "outputs": [],
   "source": [
    "import os\n",
    "import pickle\n",
    "\n",
    "import numpy as np\n",
    "import pandas as pd\n",
    "\n",
    "import matplotlib.pyplot as plt\n",
    "%matplotlib inline\n",
    "import seaborn as sns\n",
    "\n",
    "from src.gbm import (drift_sigma_maxlikelihood, compute_gbm_params, fit_drift_skewnormal, fit_volatility_gamma,\n",
    "                     plot_gbm_parameter_distribution, linear_regression_fit, plot_kde, plot_drift_vs_sigma_fit)\n",
    "\n",
    "# PATH TO DATA\n",
    "FILEPATH = \"data/all_indexes_2006-01-01_2021-12-31.pickle\"\n",
    "\n",
    "with open(FILEPATH, \"rb\") as f:\n",
    "    data = pickle.load(f)\n",
    "\n",
    "START_YEAR = 2006\n",
    "END_YEAR = 2021\n",
    "\n",
    "T = END_YEAR - START_YEAR"
   ]
  },
  {
   "attachments": {},
   "cell_type": "markdown",
   "metadata": {},
   "source": [
    "Define groups of indexes:"
   ]
  },
  {
   "cell_type": "code",
   "execution_count": 2,
   "metadata": {},
   "outputs": [],
   "source": [
    "# Unites States indexes\n",
    "indexes_usa = ['SPX','CCMP','RIY','RTY','RAY','RLV','RLG','NBI']\n",
    "\n",
    "# S&P500 sectors\n",
    "indexes_sp500 = ['S5COND','S5CONS','S5ENRS','S5FINL','S5HLTH','S5INFT','S5MATR','S5TELS','S5UTIL','S5INDU']\n",
    "\n",
    "# European indexes\n",
    "indexes_eu = ['DAX','CAC','UKX','BEL20','IBEX','KFX','OMX','SMI']\n",
    "\n",
    "# Asia Pacific indexes\n",
    "indexes_apac = ['AS51'] \n",
    "\n",
    "# Japan indexes\n",
    "indexes_jp = ['NKY','TPX']\n",
    "\n",
    "# BRIC indexes\n",
    "indexes_bric = ['IBOV','NIFTY','MXIN','SHCOMP','SHSZ300'] \n",
    "\n",
    "# All indexes: merge all lists\n",
    "indexes_all = indexes_usa + indexes_sp500 + indexes_eu + indexes_apac + indexes_jp + indexes_bric\n",
    "\n",
    "index_list = ['SPX']"
   ]
  },
  {
   "cell_type": "markdown",
   "metadata": {},
   "source": [
    "Compute GBM parameters and fit them with linear function."
   ]
  },
  {
   "cell_type": "code",
   "execution_count": 3,
   "metadata": {},
   "outputs": [
    {
     "name": "stdout",
     "output_type": "stream",
     "text": [
      "Processing SPX index\n"
     ]
    },
    {
     "ename": "KeyError",
     "evalue": "'Close'",
     "output_type": "error",
     "traceback": [
      "\u001b[0;31m---------------------------------------------------------------------------\u001b[0m",
      "\u001b[0;31mKeyError\u001b[0m                                  Traceback (most recent call last)",
      "File \u001b[0;32m~/anaconda3/envs/fin-stock/lib/python3.9/site-packages/pandas/core/indexes/base.py:3621\u001b[0m, in \u001b[0;36mIndex.get_loc\u001b[0;34m(self, key, method, tolerance)\u001b[0m\n\u001b[1;32m   3620\u001b[0m \u001b[39mtry\u001b[39;00m:\n\u001b[0;32m-> 3621\u001b[0m     \u001b[39mreturn\u001b[39;00m \u001b[39mself\u001b[39;49m\u001b[39m.\u001b[39;49m_engine\u001b[39m.\u001b[39;49mget_loc(casted_key)\n\u001b[1;32m   3622\u001b[0m \u001b[39mexcept\u001b[39;00m \u001b[39mKeyError\u001b[39;00m \u001b[39mas\u001b[39;00m err:\n",
      "File \u001b[0;32m~/anaconda3/envs/fin-stock/lib/python3.9/site-packages/pandas/_libs/index.pyx:136\u001b[0m, in \u001b[0;36mpandas._libs.index.IndexEngine.get_loc\u001b[0;34m()\u001b[0m\n",
      "File \u001b[0;32m~/anaconda3/envs/fin-stock/lib/python3.9/site-packages/pandas/_libs/index.pyx:163\u001b[0m, in \u001b[0;36mpandas._libs.index.IndexEngine.get_loc\u001b[0;34m()\u001b[0m\n",
      "File \u001b[0;32mpandas/_libs/hashtable_class_helper.pxi:5198\u001b[0m, in \u001b[0;36mpandas._libs.hashtable.PyObjectHashTable.get_item\u001b[0;34m()\u001b[0m\n",
      "File \u001b[0;32mpandas/_libs/hashtable_class_helper.pxi:5206\u001b[0m, in \u001b[0;36mpandas._libs.hashtable.PyObjectHashTable.get_item\u001b[0;34m()\u001b[0m\n",
      "\u001b[0;31mKeyError\u001b[0m: 'Close'",
      "\nThe above exception was the direct cause of the following exception:\n",
      "\u001b[0;31mKeyError\u001b[0m                                  Traceback (most recent call last)",
      "\u001b[1;32m/home/max/WORK_DIR/finance/stock-index/gbm_parameters.ipynb Cell 6\u001b[0m in \u001b[0;36m<cell line: 5>\u001b[0;34m()\u001b[0m\n\u001b[1;32m      <a href='vscode-notebook-cell:/home/max/WORK_DIR/finance/stock-index/gbm_parameters.ipynb#W5sZmlsZQ%3D%3D?line=4'>5</a>\u001b[0m \u001b[39mfor\u001b[39;00m index_name \u001b[39min\u001b[39;00m index_list:\n\u001b[1;32m      <a href='vscode-notebook-cell:/home/max/WORK_DIR/finance/stock-index/gbm_parameters.ipynb#W5sZmlsZQ%3D%3D?line=6'>7</a>\u001b[0m     \u001b[39mprint\u001b[39m(\u001b[39mf\u001b[39m\u001b[39m\"\u001b[39m\u001b[39mProcessing \u001b[39m\u001b[39m{\u001b[39;00mindex_name\u001b[39m}\u001b[39;00m\u001b[39m index\u001b[39m\u001b[39m\"\u001b[39m)\n\u001b[0;32m----> <a href='vscode-notebook-cell:/home/max/WORK_DIR/finance/stock-index/gbm_parameters.ipynb#W5sZmlsZQ%3D%3D?line=8'>9</a>\u001b[0m     df \u001b[39m=\u001b[39m compute_gbm_params(data, index_name)\n\u001b[1;32m     <a href='vscode-notebook-cell:/home/max/WORK_DIR/finance/stock-index/gbm_parameters.ipynb#W5sZmlsZQ%3D%3D?line=10'>11</a>\u001b[0m     \u001b[39m## === Drift vs sigma (volatility) === ##\u001b[39;00m\n\u001b[1;32m     <a href='vscode-notebook-cell:/home/max/WORK_DIR/finance/stock-index/gbm_parameters.ipynb#W5sZmlsZQ%3D%3D?line=11'>12</a>\u001b[0m     \u001b[39m## The scatter plot does not show any clear pattern\u001b[39;00m\n\u001b[1;32m     <a href='vscode-notebook-cell:/home/max/WORK_DIR/finance/stock-index/gbm_parameters.ipynb#W5sZmlsZQ%3D%3D?line=12'>13</a>\u001b[0m     a, b, r2, corr \u001b[39m=\u001b[39m linear_regression_fit(df \u001b[39m=\u001b[39m df, index_name\u001b[39m=\u001b[39mindex_name, fit_intercept \u001b[39m=\u001b[39m \u001b[39mTrue\u001b[39;00m, huber\u001b[39m=\u001b[39m\u001b[39mTrue\u001b[39;00m)\n",
      "File \u001b[0;32m~/WORK_DIR/finance/stock-index/src/gbm.py:66\u001b[0m, in \u001b[0;36mcompute_gbm_params\u001b[0;34m(data, index_name)\u001b[0m\n\u001b[1;32m     63\u001b[0m \u001b[39mfor\u001b[39;00m ticker \u001b[39min\u001b[39;00m data[index_name]\u001b[39m.\u001b[39mkeys():\n\u001b[1;32m     65\u001b[0m     df \u001b[39m=\u001b[39m data[index_name][ticker]\n\u001b[0;32m---> 66\u001b[0m     n_years_traded \u001b[39m=\u001b[39m \u001b[39msum\u001b[39m(\u001b[39mabs\u001b[39m(df[\u001b[39m'\u001b[39;49m\u001b[39mClose\u001b[39;49m\u001b[39m'\u001b[39;49m]\u001b[39m.\u001b[39mdiff()) \u001b[39m>\u001b[39m \u001b[39m0\u001b[39m)\n\u001b[1;32m     67\u001b[0m     \u001b[39mtry\u001b[39;00m:\n\u001b[1;32m     68\u001b[0m         prices \u001b[39m=\u001b[39m data[index_name][ticker]\n",
      "File \u001b[0;32m~/anaconda3/envs/fin-stock/lib/python3.9/site-packages/pandas/core/frame.py:3505\u001b[0m, in \u001b[0;36mDataFrame.__getitem__\u001b[0;34m(self, key)\u001b[0m\n\u001b[1;32m   3503\u001b[0m \u001b[39mif\u001b[39;00m \u001b[39mself\u001b[39m\u001b[39m.\u001b[39mcolumns\u001b[39m.\u001b[39mnlevels \u001b[39m>\u001b[39m \u001b[39m1\u001b[39m:\n\u001b[1;32m   3504\u001b[0m     \u001b[39mreturn\u001b[39;00m \u001b[39mself\u001b[39m\u001b[39m.\u001b[39m_getitem_multilevel(key)\n\u001b[0;32m-> 3505\u001b[0m indexer \u001b[39m=\u001b[39m \u001b[39mself\u001b[39;49m\u001b[39m.\u001b[39;49mcolumns\u001b[39m.\u001b[39;49mget_loc(key)\n\u001b[1;32m   3506\u001b[0m \u001b[39mif\u001b[39;00m is_integer(indexer):\n\u001b[1;32m   3507\u001b[0m     indexer \u001b[39m=\u001b[39m [indexer]\n",
      "File \u001b[0;32m~/anaconda3/envs/fin-stock/lib/python3.9/site-packages/pandas/core/indexes/base.py:3623\u001b[0m, in \u001b[0;36mIndex.get_loc\u001b[0;34m(self, key, method, tolerance)\u001b[0m\n\u001b[1;32m   3621\u001b[0m     \u001b[39mreturn\u001b[39;00m \u001b[39mself\u001b[39m\u001b[39m.\u001b[39m_engine\u001b[39m.\u001b[39mget_loc(casted_key)\n\u001b[1;32m   3622\u001b[0m \u001b[39mexcept\u001b[39;00m \u001b[39mKeyError\u001b[39;00m \u001b[39mas\u001b[39;00m err:\n\u001b[0;32m-> 3623\u001b[0m     \u001b[39mraise\u001b[39;00m \u001b[39mKeyError\u001b[39;00m(key) \u001b[39mfrom\u001b[39;00m \u001b[39merr\u001b[39;00m\n\u001b[1;32m   3624\u001b[0m \u001b[39mexcept\u001b[39;00m \u001b[39mTypeError\u001b[39;00m:\n\u001b[1;32m   3625\u001b[0m     \u001b[39m# If we have a listlike key, _check_indexing_error will raise\u001b[39;00m\n\u001b[1;32m   3626\u001b[0m     \u001b[39m#  InvalidIndexError. Otherwise we fall through and re-raise\u001b[39;00m\n\u001b[1;32m   3627\u001b[0m     \u001b[39m#  the TypeError.\u001b[39;00m\n\u001b[1;32m   3628\u001b[0m     \u001b[39mself\u001b[39m\u001b[39m.\u001b[39m_check_indexing_error(key)\n",
      "\u001b[0;31mKeyError\u001b[0m: 'Close'"
     ]
    }
   ],
   "source": [
    "results_fit = []\n",
    "\n",
    "data_index = {}\n",
    "\n",
    "for index_name in indexes_all:\n",
    "    \n",
    "    print(f\"Processing {index_name} index\")\n",
    "    \n",
    "    df = compute_gbm_params(data, index_name)\n",
    "\n",
    "    ## === Drift vs sigma (volatility) === ##\n",
    "    ## The scatter plot does not show any clear pattern\n",
    "    a, b, r2, corr = linear_regression_fit(df = df, index_name=index_name, fit_intercept = True, huber=True)\n",
    "\n",
    "    data_index[index_name] = {'a': a, 'b': b, 'R2': r2, 'corr': corr}\n",
    "\n",
    "    ## === Drift and sigma KDE plots === #\n",
    "    title = 'GBM drift distribution. Index {}'.format(index_name)\n",
    "    plot_kde(df.drift, title, 'drift', index_name)\n",
    "\n",
    "    title = 'GBM volatility distribution. Index {}'.format(index_name)\n",
    "    plot_kde(df.sigma, title, 'volatility', index_name) \n",
    "\n",
    "    ## === Skenormal fit of the drift distribution === ##\n",
    "    drift_skewnorm = fit_drift_skewnormal(df.drift)\n",
    "    volatility_gamma = fit_volatility_gamma(df.sigma)\n",
    "\n",
    "    data_index[index_name].update(drift_skewnorm)\n",
    "    data_index[index_name].update(volatility_gamma)\n",
    "\n",
    "    #model_stats = {'model_mean_to_median': np.exp(0.5*volatility_gamma['sigma_mode']**2*T + 0.5*drift_skewnorm['mu_std']**2*T**2),\n",
    "    #                'model_mean_to_mode': np.exp(3./2.*volatility_gamma['sigma_mode']**2*T + drift_skewnorm['mu_std']**2*T**2),\n",
    "    #                'model_mean_rho': np.exp(drift_skewnorm['mu_mean']*T + 0.5*drift_skewnorm['mu_std']**2*T**2),\n",
    "    #                'model_median_rho': np.exp(drift_skewnorm['mu_mean']*T - 0.5*volatility_gamma['sigma_mode']**2*T)}\n",
    "    #data_index[index_name].update(model_stats)\n",
    "\n",
    "    corrcoeff = np.corrcoef(np.array(df.drift, dtype=float), np.array(df.sigma, dtype=float))[0,1]\n",
    "    data_index[index_name].update({'corr_drift_sigma': corrcoeff})\n",
    "\n",
    "    plot_gbm_parameter_distribution(df.drift, index_name, 'drift')\n",
    "    plot_gbm_parameter_distribution(df.sigma, index_name, 'volatility')\n",
    "\n",
    "df_results = pd.DataFrame.from_dict(data_index, orient='index')"
   ]
  },
  {
   "cell_type": "code",
   "execution_count": null,
   "metadata": {},
   "outputs": [],
   "source": [
    "# columns to be displayed in the paper\n",
    "columns_paper = ['drift_mean','drift_std','drift_loc','drift_scale','drift_skewp','sigma_mean','sigma_alpha','sigma_beta','a','b','R2','corr_drift_sigma']\n",
    "\n",
    "# select columns to be displayed in the paper\n",
    "df_paper = df_results[columns_paper]\n",
    "\n",
    "df_paper.round(2)"
   ]
  },
  {
   "cell_type": "code",
   "execution_count": null,
   "metadata": {},
   "outputs": [],
   "source": [
    "df_paper.to_csv('index_mu_sigma_distribution_paper_version.csv',index=False)\n",
    "df_paper.round(2).to_latex(index=False)"
   ]
  }
 ],
 "metadata": {
  "kernelspec": {
   "display_name": "fin-stock",
   "language": "python",
   "name": "fin-stock"
  },
  "language_info": {
   "codemirror_mode": {
    "name": "ipython",
    "version": 3
   },
   "file_extension": ".py",
   "mimetype": "text/x-python",
   "name": "python",
   "nbconvert_exporter": "python",
   "pygments_lexer": "ipython3",
   "version": "3.9.13"
  },
  "orig_nbformat": 4
 },
 "nbformat": 4,
 "nbformat_minor": 2
}
